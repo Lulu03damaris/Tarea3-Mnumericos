{
  "nbformat": 4,
  "nbformat_minor": 0,
  "metadata": {
    "colab": {
      "provenance": [],
      "authorship_tag": "ABX9TyNT9/MfuRyMYvs7jU6KnYc2",
      "include_colab_link": true
    },
    "kernelspec": {
      "name": "python3",
      "display_name": "Python 3"
    },
    "language_info": {
      "name": "python"
    }
  },
  "cells": [
    {
      "cell_type": "markdown",
      "metadata": {
        "id": "view-in-github",
        "colab_type": "text"
      },
      "source": [
        "<a href=\"https://colab.research.google.com/github/Lulu03damaris/Tarea3-Mnumericos/blob/main/Tarea3.ipynb\" target=\"_parent\"><img src=\"https://colab.research.google.com/assets/colab-badge.svg\" alt=\"Open In Colab\"/></a>"
      ]
    },
    {
      "cell_type": "code",
      "execution_count": null,
      "metadata": {
        "colab": {
          "base_uri": "https://localhost:8080/"
        },
        "id": "GhAjRT2wIvDd",
        "outputId": "0279abaf-34b0-449a-bd6c-8e85fbca29e3"
      },
      "outputs": [
        {
          "output_type": "stream",
          "name": "stdout",
          "text": [
            "Suma del 1 al 10: 1.547\n",
            "Suma del 10 1 1: 1.546\n"
          ]
        }
      ],
      "source": [
        "def truncate(value, digits):\n",
        "    factor = 10 ** digits\n",
        "    return int(value * factor) / factor\n",
        "\n",
        "def sum_series_a():\n",
        "    forward_sum = 0\n",
        "    backward_sum = 0\n",
        "\n",
        "    # Sumar de 1 a 10\n",
        "    for i in range(1, 11):\n",
        "        term = 1 / (i ** 2)\n",
        "        forward_sum = truncate(forward_sum + truncate(term, 3), 3)\n",
        "\n",
        "    # Sumar de 10 a 1\n",
        "    for i in range(10, 0, -1):\n",
        "        term = 1 / (i ** 2)\n",
        "        backward_sum = truncate(backward_sum + truncate(term, 3), 3)\n",
        "\n",
        "    return forward_sum, backward_sum\n",
        "\n",
        "forward_sum, backward_sum = sum_series_a()\n",
        "print(f\"Suma del 1 al 10: {forward_sum}\")\n",
        "print(f\"Suma del 10 al 1: {backward_sum}\")\n"
      ]
    },
    {
      "cell_type": "code",
      "source": [
        "def truncate(value, digits):\n",
        "    factor = 10 ** digits\n",
        "    return int(value * factor) / factor\n",
        "\n",
        "def sum_series_a():\n",
        "    forward_sum = 0\n",
        "    backward_sum = 0\n",
        "\n",
        "    # Sumar de 1 a 10\n",
        "    for i in range(1, 11):\n",
        "        term = 1 / (i ** 3)\n",
        "        forward_sum = truncate(forward_sum + truncate(term, 3), 3)\n",
        "\n",
        "    # Sumar de 10 a 1\n",
        "    for i in range(10, 0, -1):\n",
        "        term = 1 / (i ** 3)\n",
        "        backward_sum = truncate(backward_sum + truncate(term, 3), 3)\n",
        "\n",
        "    return forward_sum, backward_sum\n",
        "\n",
        "forward_sum, backward_sum = sum_series_a()\n",
        "print(f\"Suma del 1 al 10: {forward_sum}\")\n",
        "print(f\"Suma del 10 1 1: {backward_sum}\")\n",
        "\n"
      ],
      "metadata": {
        "colab": {
          "base_uri": "https://localhost:8080/"
        },
        "id": "0rOE_h2EJCJ8",
        "outputId": "70767033-8525-4ab6-d208-19496bbc13b3"
      },
      "execution_count": null,
      "outputs": [
        {
          "output_type": "stream",
          "name": "stdout",
          "text": [
            "Suma del 1 al 10: 1.19\n",
            "Suma del 10 1 1: 1.194\n"
          ]
        }
      ]
    },
    {
      "cell_type": "code",
      "source": [
        "import math\n",
        "\n",
        "def maclaurin_arctan(x, n):\n",
        "    sum = 0.0\n",
        "    for i in range(n):\n",
        "        term = ((-1)**i) * (x**(2*i + 1)) / (2*i + 1)\n",
        "        sum += term\n",
        "    return sum\n",
        "\n",
        "# Tolerancia\n",
        "tolerance = 1e-3\n",
        "pi_value = math.pi\n",
        "x = 1\n",
        "\n",
        "n = 1\n",
        "while True:\n",
        "    P_n = maclaurin_arctan(x, n)\n",
        "    approximation = 4 * P_n\n",
        "    error = abs(approximation - pi_value)\n",
        "    if error < tolerance:\n",
        "        break\n",
        "    n += 1\n",
        "\n",
        "print(f\"Numeros de terminos requeridos: {n}\")\n",
        "print(f\"Aproximacion de π: {approximation}\")\n",
        "print(f\"Valor real π: {pi_value}\")\n",
        "print(f\"Error: {error}\")\n"
      ],
      "metadata": {
        "colab": {
          "base_uri": "https://localhost:8080/"
        },
        "id": "2YpYbBsALNOQ",
        "outputId": "e02f58b7-ed85-41f4-82d7-3f5b6fb4e8a9"
      },
      "execution_count": null,
      "outputs": [
        {
          "output_type": "stream",
          "name": "stdout",
          "text": [
            "Numeros de terminos requeridos: 1000\n",
            "Aproximacion de π: 3.140592653839794\n",
            "Valor real π: 3.141592653589793\n",
            "Error: 0.000999999749998981\n"
          ]
        }
      ]
    },
    {
      "cell_type": "code",
      "source": [
        "import math\n",
        "\n",
        "def maclaurin_arctan(x, n):\n",
        "    \"\"\"\n",
        "    Calcula la suma de los primeros n términos de la serie de Maclaurin para arctan(x).\n",
        "    \"\"\"\n",
        "    sum = 0.0\n",
        "    for i in range(n):\n",
        "        term = ((-1)**i) * (x**(2*i + 1)) / (2*i + 1)\n",
        "        sum += term\n",
        "    return sum\n",
        "n = 1\n",
        "while True:\n",
        "    arctan_1_5 = maclaurin_arctan(1/5, n)\n",
        "    arctan_1_239 = maclaurin_arctan(1/239, n)\n",
        "    approximation = 4 * (4 * arctan_1_5 - arctan_1_239)\n",
        "    error = abs(approximation - pi_value)\n",
        "    if error < tolerance:\n",
        "        break\n",
        "    n += 1\n",
        "\n",
        "print(f\"Numeros de terminos requeridos: {n}\")"
      ],
      "metadata": {
        "colab": {
          "base_uri": "https://localhost:8080/"
        },
        "id": "3ldNZuMqcvqw",
        "outputId": "2ac7e1b4-1468-4de6-fe4a-a4508f3b6996"
      },
      "execution_count": null,
      "outputs": [
        {
          "output_type": "stream",
          "name": "stdout",
          "text": [
            "Numeros de terminos requeridos: 2\n"
          ]
        }
      ]
    },
    {
      "cell_type": "code",
      "source": [
        "def calculate_product_a(n, x):\n",
        "    product = 0\n",
        "    for i in range(n):\n",
        "        product = product * x[i]\n",
        "    return product\n",
        "\n",
        "# Ejemplo de uso\n",
        "n = 3\n",
        "x = [2, 3, 4]\n",
        "result = calculate_product_a(n, x)\n",
        "print(\"Producto a:\", result)\n"
      ],
      "metadata": {
        "colab": {
          "base_uri": "https://localhost:8080/"
        },
        "id": "hisCKNRCfKw2",
        "outputId": "19a2d27c-961d-40c0-ff1b-05a79d49fd28"
      },
      "execution_count": null,
      "outputs": [
        {
          "output_type": "stream",
          "name": "stdout",
          "text": [
            "Producto a: 0\n"
          ]
        }
      ]
    },
    {
      "cell_type": "code",
      "source": [
        "def calculate_product(numbers):\n",
        "    # Paso 1: Inicializar PRODUCT a 1\n",
        "    product = 1\n",
        "\n",
        "    # Paso 2: Calcular el producto de todos los números en la lista\n",
        "    for number in numbers:\n",
        "        product *= number\n",
        "\n",
        "    # Paso 3: Devolver el resultado\n",
        "    return product\n",
        "\n",
        "# Ejemplo de uso\n",
        "n = int(input(\"Ingrese la cantidad de números: \"))\n",
        "numbers = []\n",
        "for i in range(n):\n",
        "    num = float(input(f\"Ingrese el número {i+1}: \"))\n",
        "    numbers.append(num)\n",
        "\n",
        "result = calculate_product(numbers)\n",
        "print(\"El producto de los números es:\", result)\n"
      ],
      "metadata": {
        "colab": {
          "base_uri": "https://localhost:8080/"
        },
        "id": "n4V6tgyPiXi7",
        "outputId": "87c6f02e-45ac-4e5b-916c-b7b608eba998"
      },
      "execution_count": null,
      "outputs": [
        {
          "output_type": "stream",
          "name": "stdout",
          "text": [
            "Ingrese la cantidad de números: 3\n",
            "Ingrese el número 1: 8\n",
            "Ingrese el número 2: 9\n",
            "Ingrese el número 3: 6\n",
            "El producto de los números es: 432.0\n"
          ]
        }
      ]
    },
    {
      "cell_type": "code",
      "source": [
        "def calculate_product(n, numbers):\n",
        "    # Paso 1: Inicializar PRODUCT a 1\n",
        "    product = 1\n",
        "\n",
        "    # Paso 2: Calcular el producto de todos los números en la lista, considerando los ceros\n",
        "    for i in range(n):\n",
        "        if numbers[i] == 0:\n",
        "            product = 0\n",
        "            break\n",
        "        product *= numbers[i]\n",
        "\n",
        "    # Paso 3: Devolver el resultado\n",
        "    return product\n",
        "\n",
        "# Entrada del usuario\n",
        "n = int(input(\"Ingrese la cantidad de números: \"))\n",
        "numbers = []\n",
        "\n",
        "for i in range(n):\n",
        "    num = float(input(f\"Ingrese el número {i+1}: \"))\n",
        "    numbers.append(num)\n",
        "\n",
        "# Llamada a la función y salida del resultado\n",
        "result = calculate_product(n, numbers)\n",
        "print(\"El producto de los números es:\", result)\n"
      ],
      "metadata": {
        "colab": {
          "base_uri": "https://localhost:8080/"
        },
        "id": "SX2dyAC3jCjs",
        "outputId": "d24ead2e-2fc4-4963-9357-4fe733e5ae52"
      },
      "execution_count": null,
      "outputs": [
        {
          "output_type": "stream",
          "name": "stdout",
          "text": [
            "Ingrese la cantidad de números: 3\n",
            "Ingrese el número 1: 5\n",
            "Ingrese el número 2: 6\n",
            "Ingrese el número 3: 1\n",
            "El producto de los números es: 30.0\n"
          ]
        }
      ]
    },
    {
      "cell_type": "code",
      "source": [
        "# Función para calcular el producto de una lista de números, considerando cero\n",
        "def calculate_product_with_zero(n, numbers):\n",
        "    # Paso 1: Inicializar PRODUCT a 1\n",
        "    product = 1\n",
        "\n",
        "    # Paso 2: Calcular el producto de todos los números en la lista\n",
        "    for i in range(n):\n",
        "        # Si el número actual es cero, el producto será cero\n",
        "        if numbers[i] == 0:\n",
        "            product = 0\n",
        "            break  # Salir del bucle ya que el producto es cero\n",
        "        # Si el número no es cero, multiplicarlo al producto\n",
        "        product *= numbers[i]\n",
        "\n",
        "    # Paso 3: Devolver el resultado\n",
        "    return product\n",
        "\n",
        "# Entrada del usuario\n",
        "n = int(input(\"Ingrese la cantidad de números: \"))\n",
        "numbers = []\n",
        "\n",
        "for i in range(n):\n",
        "    num = float(input(f\"Ingrese el número {i+1}: \"))\n",
        "    numbers.append(num)\n",
        "\n",
        "# Llamada a la función y salida del resultado\n",
        "result = calculate_product_with_zero(n, numbers)\n",
        "print(\"El producto de los números es:\", result)\n",
        "\n"
      ],
      "metadata": {
        "colab": {
          "base_uri": "https://localhost:8080/"
        },
        "id": "V7vspJMRkAMg",
        "outputId": "ec75750b-55b1-4345-b7c6-a0ac45bf2b97"
      },
      "execution_count": null,
      "outputs": [
        {
          "output_type": "stream",
          "name": "stdout",
          "text": [
            "Ingrese la cantidad de números: 2\n",
            "Ingrese el número 1: 3\n",
            "Ingrese el número 2: 1\n",
            "El producto de los números es: 3.0\n"
          ]
        }
      ]
    },
    {
      "cell_type": "code",
      "source": [
        "def calculate_product_b(n, x):\n",
        "    product = 1\n",
        "    for i in range(n):\n",
        "        product = product * x[i]\n",
        "    return product\n",
        "\n",
        "# Ejemplo de uso\n",
        "n = 3\n",
        "x = [2, 3, 4]\n",
        "result = calculate_product_b(n, x)\n",
        "print(\"Producto a:\", result)\n"
      ],
      "metadata": {
        "colab": {
          "base_uri": "https://localhost:8080/"
        },
        "id": "3ChfK1E-kbqO",
        "outputId": "5853670f-a207-4bc3-f396-0c3ac8ad5219"
      },
      "execution_count": null,
      "outputs": [
        {
          "output_type": "stream",
          "name": "stdout",
          "text": [
            "Producto a: 24\n"
          ]
        }
      ]
    },
    {
      "cell_type": "code",
      "source": [
        "def calculate_product_c(n, x):\n",
        "    product = 1\n",
        "\n",
        "    for i in range(n):\n",
        "        if x[i] == 0:\n",
        "            product = 0\n",
        "            break\n",
        "        product *= x[i]\n",
        "\n",
        "    return product\n",
        "\n",
        "\n",
        "# Ejemplo de uso\n",
        "n = 4\n",
        "x = [2, 0,  3, 4]\n",
        "result = calculate_product_c(n, x)\n",
        "print(\"Producto a:\", result)"
      ],
      "metadata": {
        "colab": {
          "base_uri": "https://localhost:8080/"
        },
        "id": "Iemjl1oblsNg",
        "outputId": "ae3ef819-8cba-4932-ed6d-6e890521a8b9"
      },
      "execution_count": null,
      "outputs": [
        {
          "output_type": "stream",
          "name": "stdout",
          "text": [
            "Producto a: 0\n"
          ]
        }
      ]
    },
    {
      "cell_type": "code",
      "source": [
        "def sum_of_products(a, b):\n",
        "    total_sum = 0\n",
        "    n = len(a)\n",
        "\n",
        "    for i in range(n):\n",
        "        for j in range(n):\n",
        "            total_sum += a[i] * b[j]\n",
        "\n",
        "    return total_sum\n",
        "\n",
        "a = [1, 4, 3]\n",
        "b = [2, 5, 6]\n",
        "print(f\"Sum of products: {sum_of_products(a, b)}\")\n"
      ],
      "metadata": {
        "colab": {
          "base_uri": "https://localhost:8080/"
        },
        "id": "qkISz-XWoTKY",
        "outputId": "3d296e46-4bd2-490a-a37b-ecd32cd1036f"
      },
      "execution_count": null,
      "outputs": [
        {
          "output_type": "stream",
          "name": "stdout",
          "text": [
            "Sum of products: 104\n"
          ]
        }
      ]
    }
  ]
}